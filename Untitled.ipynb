{
 "cells": [
  {
   "cell_type": "code",
   "execution_count": 2,
   "metadata": {
    "collapsed": true
   },
   "outputs": [],
   "source": [
    "# Week 01"
   ]
  },
  {
   "cell_type": "code",
   "execution_count": null,
   "metadata": {
    "collapsed": false,
    "scrolled": true
   },
   "outputs": [],
   "source": [
    "# this is python\n",
    "print(\"Hello, buddy!\")"
   ]
  },
  {
   "cell_type": "code",
   "execution_count": null,
   "metadata": {
    "collapsed": true
   },
   "outputs": [],
   "source": [
    "#guessing game"
   ]
  },
  {
   "cell_type": "code",
   "execution_count": null,
   "metadata": {
    "collapsed": false
   },
   "outputs": [],
   "source": [
    "from random import randint\n",
    "from IPython.display import clear_output\n",
    "guessed = False\n",
    "number=randint(0,100)\n",
    "guesses=0\n",
    "while not guessed:\n",
    "    ans=input(\"try to guess number\")\n",
    "    guesses+=1\n",
    "    clear_output()\n",
    "    if int(ans) == number:\n",
    "        print(\"correct\")\n",
    "        print(\"it took you {} guesses!\" .format(guesses))\n",
    "        break\n",
    "    elif int(ans) >number:\n",
    "        print(\"The number is lower than what you guessed.\")\n",
    "    elif int(ans) <number:\n",
    "        print(\"The number is greater than what you guessed.\")\n",
    "\n"
   ]
  },
  {
   "cell_type": "code",
   "execution_count": null,
   "metadata": {
    "collapsed": true
   },
   "outputs": [],
   "source": [
    "#week 2\n"
   ]
  },
  {
   "cell_type": "code",
   "execution_count": null,
   "metadata": {
    "collapsed": true
   },
   "outputs": [],
   "source": [
    "# Comments & Basic Data Types"
   ]
  },
  {
   "cell_type": "code",
   "execution_count": null,
   "metadata": {
    "collapsed": false
   },
   "outputs": [],
   "source": [
    "print(\"Hello\") # this is also a comment"
   ]
  },
  {
   "cell_type": "code",
   "execution_count": null,
   "metadata": {
    "collapsed": false
   },
   "outputs": [],
   "source": [
    "\"\"\"\n",
    "This is a multi-Line comment\n",
    "\"\"\"\n",
    "print(\"Hello\") # this is also a comment"
   ]
  },
  {
   "cell_type": "code",
   "execution_count": 2,
   "metadata": {
    "collapsed": true
   },
   "outputs": [],
   "source": [
    "#dec 8"
   ]
  },
  {
   "cell_type": "code",
   "execution_count": 5,
   "metadata": {
    "collapsed": false
   },
   "outputs": [
    {
     "name": "stdout",
     "output_type": "stream",
     "text": [
      "9.5 num2\n"
     ]
    }
   ],
   "source": [
    "num1=9.5\n",
    "num2=8.17\n",
    "print(num1,'num2')"
   ]
  },
  {
   "cell_type": "code",
   "execution_count": 7,
   "metadata": {
    "collapsed": false
   },
   "outputs": [
    {
     "name": "stdout",
     "output_type": "stream",
     "text": [
      "3 + 9 = 12\n"
     ]
    }
   ],
   "source": [
    "x=3; y=9; result=x+y\n",
    "print(x,\"+\",y,\"=\",result)"
   ]
  },
  {
   "cell_type": "code",
   "execution_count": 12,
   "metadata": {
    "collapsed": false
   },
   "outputs": [
    {
     "ename": "SyntaxError",
     "evalue": "invalid syntax (<ipython-input-12-bf76ee35f039>, line 4)",
     "output_type": "error",
     "traceback": [
      "\u001b[0;36m  File \u001b[0;32m\"<ipython-input-12-bf76ee35f039>\"\u001b[0;36m, line \u001b[0;32m4\u001b[0m\n\u001b[0;31m    print(f\"hello {fn}\")#python 3.6\u001b[0m\n\u001b[0m                      ^\u001b[0m\n\u001b[0;31mSyntaxError\u001b[0m\u001b[0;31m:\u001b[0m invalid syntax\n"
     ]
    }
   ],
   "source": [
    "fn='roei'; ln='levy'\n",
    "\n",
    "print(\"hello {}\".format(fn))\n",
    "print(\"hello {fn}\")#python 3.6"
   ]
  },
  {
   "cell_type": "code",
   "execution_count": 22,
   "metadata": {
    "collapsed": false
   },
   "outputs": [
    {
     "name": "stdout",
     "output_type": "stream",
     "text": [
      "hello roei\n",
      "hello roei levy\n",
      "hlo\n"
     ]
    }
   ],
   "source": [
    "print('hello %s' % fn)\n",
    "print(\"hello %s %s\" %(fn,ln))\n",
    "word='hello'\n",
    "print(word[0:5:2])"
   ]
  },
  {
   "cell_type": "code",
   "execution_count": 36,
   "metadata": {
    "collapsed": false
   },
   "outputs": [
    {
     "name": "stdout",
     "output_type": "stream",
     "text": [
      "mr. roei has 5.4 million shekels, and he gets them gr8ly - it's not False!\n",
      "roei's favorite sports is soccer.\n"
     ]
    }
   ],
   "source": [
    "in1=8; fl1=5.4; bol1=False; ln\n",
    "\n",
    "print(\"mr. %s has %s million shekels, and he gets them gr%sly - it's not %s!\" %(fn,fl1,in1,bol1))\n",
    "print(\"{}'s favorite sports is {}.\".format(fn, 'soccer'))"
   ]
  },
  {
   "cell_type": "code",
   "execution_count": 38,
   "metadata": {
    "collapsed": true
   },
   "outputs": [],
   "source": [
    "#manipulating strings"
   ]
  },
  {
   "cell_type": "code",
   "execution_count": 41,
   "metadata": {
    "collapsed": false
   },
   "outputs": [
    {
     "name": "stdout",
     "output_type": "stream",
     "text": [
      "Roei\n",
      "Hello there.\n"
     ]
    }
   ],
   "source": [
    "print(fn.title())\n",
    "words = \"Hello there!\"\n",
    "print(words.replace(\"!\",\".\"))"
   ]
  },
  {
   "cell_type": "code",
   "execution_count": 43,
   "metadata": {
    "collapsed": false
   },
   "outputs": [
    {
     "name": "stdout",
     "output_type": "stream",
     "text": [
      "5\n"
     ]
    }
   ],
   "source": [
    "s = \"Look over that way\"\n",
    "print( s.find(\"over\") )"
   ]
  },
  {
   "cell_type": "code",
   "execution_count": 51,
   "metadata": {
    "collapsed": false
   },
   "outputs": [
    {
     "name": "stdout",
     "output_type": "stream",
     "text": [
      "roei\n",
      "    roei   \n",
      "    roei\n",
      "roei   \n"
     ]
    }
   ],
   "source": [
    "name=\"    roei   \"\n",
    "print(name.strip(\" \"))\n",
    "print(name)\n",
    "print(name.rstrip(\" \"))\n",
    "print(name.lstrip(\" \"))"
   ]
  },
  {
   "cell_type": "code",
   "execution_count": 1,
   "metadata": {
    "collapsed": false
   },
   "outputs": [
    {
     "ename": "NameError",
     "evalue": "name 'fn' is not defined",
     "output_type": "error",
     "traceback": [
      "\u001b[0;31m---------------------------------------------------------------------------\u001b[0m",
      "\u001b[0;31mNameError\u001b[0m                                 Traceback (most recent call last)",
      "\u001b[0;32m<ipython-input-1-b3b96f24ccaf>\u001b[0m in \u001b[0;36m<module>\u001b[0;34m()\u001b[0m\n\u001b[0;32m----> 1\u001b[0;31m \u001b[0mprint\u001b[0m\u001b[1;33m(\u001b[0m\u001b[0mfn\u001b[0m\u001b[1;33m.\u001b[0m\u001b[0msplit\u001b[0m\u001b[1;33m(\u001b[0m\u001b[1;34m'r'\u001b[0m\u001b[1;33m)\u001b[0m\u001b[1;33m)\u001b[0m\u001b[1;33m\u001b[0m\u001b[0m\n\u001b[0m\u001b[1;32m      2\u001b[0m \u001b[0mprint\u001b[0m\u001b[1;33m(\u001b[0m\u001b[1;34m\"uppercase\"\u001b[0m\u001b[1;33m.\u001b[0m\u001b[0mupper\u001b[0m\u001b[1;33m(\u001b[0m\u001b[1;33m)\u001b[0m\u001b[1;33m)\u001b[0m\u001b[1;33m\u001b[0m\u001b[0m\n\u001b[1;32m      3\u001b[0m \u001b[0mname\u001b[0m\u001b[1;33m=\u001b[0m\u001b[1;34m'$$John smith'\u001b[0m\u001b[1;33m\u001b[0m\u001b[0m\n\u001b[1;32m      4\u001b[0m \u001b[0mprint\u001b[0m\u001b[1;33m(\u001b[0m\u001b[0mname\u001b[0m\u001b[1;33m.\u001b[0m\u001b[0mstrip\u001b[0m\u001b[1;33m(\u001b[0m\u001b[1;34m\"$\"\u001b[0m\u001b[1;33m)\u001b[0m\u001b[1;33m)\u001b[0m\u001b[1;33m\u001b[0m\u001b[0m\n",
      "\u001b[0;31mNameError\u001b[0m: name 'fn' is not defined"
     ]
    }
   ],
   "source": [
    "print(fn.split('r'))\n",
    "print(\"uppercase\".upper())\n",
    "name='$$John smith'\n",
    "print(name.strip(\"$\"))"
   ]
  },
  {
   "cell_type": "code",
   "execution_count": 4,
   "metadata": {
    "collapsed": false
   },
   "outputs": [
    {
     "name": "stdout",
     "output_type": "stream",
     "text": [
      "**************************************************\n"
     ]
    }
   ],
   "source": [
    "print(\"*\"*50)"
   ]
  },
  {
   "cell_type": "code",
   "execution_count": 1,
   "metadata": {
    "collapsed": false
   },
   "outputs": [
    {
     "name": "stdout",
     "output_type": "stream",
     "text": [
      "o l\n",
      "olleH\n"
     ]
    }
   ],
   "source": [
    "var=\"Hello\"\n",
    "print(var[-1],var[-2])\n",
    "print(var[-1:-6:-1])\n"
   ]
  },
  {
   "cell_type": "code",
   "execution_count": 6,
   "metadata": {
    "collapsed": false
   },
   "outputs": [
    {
     "name": "stdout",
     "output_type": "stream",
     "text": [
      "what's your name?roei\n",
      "roei\n",
      "what's your name?roei\n",
      "Hello, roei\n"
     ]
    }
   ],
   "source": [
    "#monday p48\n",
    "#user input\n",
    "\n",
    "print(input(\"what's your name?\"))\n",
    "ans=input(\"what's your name?\")\n",
    "\n",
    "print(\"Hello, {}\".format(ans))"
   ]
  },
  {
   "cell_type": "code",
   "execution_count": 11,
   "metadata": {
    "collapsed": false
   },
   "outputs": [
    {
     "name": "stdout",
     "output_type": "stream",
     "text": [
      "<class 'int'>\n",
      "<class 'str'>\n"
     ]
    }
   ],
   "source": [
    "num=\"9\"\n",
    "numInt=int(num)\n",
    "print(type(numInt))\n",
    "print(type(num))"
   ]
  },
  {
   "cell_type": "code",
   "execution_count": null,
   "metadata": {
    "collapsed": false
   },
   "outputs": [],
   "source": [
    "#working with user input to perform calculations\n",
    "ans=input(\"type a number to add: \")\n",
    "print(type(ans))\n",
    "print(100+int(ans))\n",
    "res=100+int(ans)\n",
    "print(\"100+{}={}\".format(ans,res))"
   ]
  },
  {
   "cell_type": "code",
   "execution_count": 3,
   "metadata": {
    "collapsed": false
   },
   "outputs": [
    {
     "name": "stdout",
     "output_type": "stream",
     "text": [
      "enter a float num1: 12\n",
      "enter a float num2: ;lkj\n",
      "you didn't enter a number\n",
      "the program broke!\n"
     ]
    }
   ],
   "source": [
    "#handling errors\n",
    "\n",
    "try:\n",
    "    ans1=float(input(\"enter a float num1: \"))\n",
    "    ans2=float(input(\"enter a float num2: \"))\n",
    "    print(\"{}+{}={}\".format(ans1,ans2,ans1+ans2))\n",
    "    print(\"the program didn't break!\")\n",
    "except:\n",
    "    print(\"you didn't enter a number\")\n",
    "    print(\"the program broke!\")\n"
   ]
  },
  {
   "cell_type": "code",
   "execution_count": 4,
   "metadata": {
    "collapsed": true
   },
   "outputs": [],
   "source": [
    "#if statements"
   ]
  },
  {
   "cell_type": "code",
   "execution_count": 7,
   "metadata": {
    "collapsed": false
   },
   "outputs": [
    {
     "name": "stdout",
     "output_type": "stream",
     "text": [
      "x is less than y\n"
     ]
    }
   ],
   "source": [
    "x,y=5,10\n",
    "if x<y:\n",
    "        print(\"x is less than y\")"
   ]
  },
  {
   "cell_type": "code",
   "execution_count": 9,
   "metadata": {
    "collapsed": false
   },
   "outputs": [
    {
     "name": "stdout",
     "output_type": "stream",
     "text": [
      "what is 5+5?10\n",
      "you got it right!\n"
     ]
    }
   ],
   "source": [
    "#checking user input:\n",
    "ans=int(input(\"what is 5+5?\"))\n",
    "if ans==10:\n",
    "    print(\"you got it right!\")"
   ]
  },
  {
   "cell_type": "code",
   "execution_count": 17,
   "metadata": {
    "collapsed": false
   },
   "outputs": [
    {
     "name": "stdout",
     "output_type": "stream",
     "text": [
      "please input a stringlkjlkjes\n",
      "found es\n"
     ]
    }
   ],
   "source": [
    "ans=input(\"please input a string\")\n",
    "if(ans.find(\"es\")!=-1):\n",
    "    print(\"found es\")\n",
    "else: print(\"didn't found es\")"
   ]
  },
  {
   "cell_type": "code",
   "execution_count": 28,
   "metadata": {
    "collapsed": false
   },
   "outputs": [
    {
     "data": {
      "text/plain": [
       "True"
      ]
     },
     "execution_count": 28,
     "metadata": {},
     "output_type": "execute_result"
    }
   ],
   "source": [
    "\"dsadessaing\"[-1:-4:-1]==\"gni\""
   ]
  },
  {
   "cell_type": "code",
   "execution_count": 41,
   "metadata": {
    "collapsed": false,
    "scrolled": true
   },
   "outputs": [
    {
     "name": "stdout",
     "output_type": "stream",
     "text": [
      "input string azvc\n",
      "input string bvcxv\n",
      "different\n"
     ]
    }
   ],
   "source": [
    "ans1=input(\"input string a\")\n",
    "ans2=input(\"input string b\")\n",
    "ans1=ans1.lower();ans2=ans2.lower()\n",
    "if ans1==ans2:\n",
    "    print(\"identical\")\n",
    "else:\n",
    "    print(\"different\")\n"
   ]
  },
  {
   "cell_type": "code",
   "execution_count": 45,
   "metadata": {
    "collapsed": false
   },
   "outputs": [
    {
     "name": "stdout",
     "output_type": "stream",
     "text": [
      "enter a number7\n",
      "49\n"
     ]
    }
   ],
   "source": [
    "ans=int(input(\"enter a number\"))\n",
    "if ans<10:\n",
    "    print(pow(ans,2))"
   ]
  },
  {
   "cell_type": "code",
   "execution_count": 47,
   "metadata": {
    "collapsed": false
   },
   "outputs": [
    {
     "name": "stdout",
     "output_type": "stream",
     "text": [
      "x is lower\n"
     ]
    }
   ],
   "source": [
    "x,y=5,10\n",
    "if x>y:\n",
    "    print(\"x greater\")\n",
    "elif x<y:\n",
    "    print(\"x is lower\")"
   ]
  },
  {
   "cell_type": "code",
   "execution_count": 49,
   "metadata": {
    "collapsed": false
   },
   "outputs": [
    {
     "name": "stdout",
     "output_type": "stream",
     "text": [
      "lower\n"
     ]
    }
   ],
   "source": [
    "x, y = 5, 10\n",
    "if x > y:\n",
    "    print(\"greater\")\n",
    "elif x < y:\n",
    "    print(\"lower\")"
   ]
  },
  {
   "cell_type": "code",
   "execution_count": 2,
   "metadata": {
    "collapsed": false
   },
   "outputs": [
    {
     "name": "stdout",
     "output_type": "stream",
     "text": [
      "add/sub/mul/div?mul\n",
      "you chose to mul\n",
      "enter 1st num10\n",
      "enter 2nd num2\n",
      "num 1 = 10\n",
      "num 2 = 2\n",
      "10.0 * 2.0 = 20.0\n"
     ]
    }
   ],
   "source": [
    "#p 67 friday\n",
    "\n",
    "operation=input(\"add/sub/mul/div?\").lower()\n",
    "print(\"you chose to {}\".format(operation))\n",
    "\n",
    "num1=input(\"enter 1st num\")\n",
    "num2=input(\"enter 2nd num\")\n",
    "\n",
    "print(\"num 1 = {}\".format(num1))\n",
    "print(\"num 2 = {}\".format(num2))\n",
    "\n",
    "try:\n",
    "    num1,num2=float(num1), float(num2)\n",
    "    if operation == \"add\":\n",
    "        result=num1+num2\n",
    "        print(\"{} + {} = {}\".format(num1,num2,result))\n",
    "    elif operation==\"sub\":\n",
    "        result=num1-num2\n",
    "        print(\"{} - {} = {}\".format(num1,num2,result))\n",
    "    elif operation==\"mul\":\n",
    "        result=num1*num2\n",
    "        print(\"{} * {} = {}\".format(num1,num2,result))\n",
    "    elif operation==\"div\":\n",
    "        result=num1/num2\n",
    "        print(\"{} / {} = {}\".format(num1,num2,result))\n",
    "    else:\n",
    "        print(\"sorry, but '{}' is not an option\".format(operation))\n",
    "except:\n",
    "    print(\"improper numbers used\")"
   ]
  },
  {
   "cell_type": "code",
   "execution_count": 11,
   "metadata": {
    "collapsed": false
   },
   "outputs": [
    {
     "name": "stdout",
     "output_type": "stream",
     "text": [
      "[5, 'book', [34, 'hello'], True]\n",
      "[34, 'hello']\n",
      "34\n",
      "2105041750152\n",
      "data:[50, 10, 15, 20]\t data_copy: [5, 10, 15, 20]\n",
      "[5, 10, 15, 20]\n"
     ]
    }
   ],
   "source": [
    "#week 4\n",
    "#Lists\n",
    "#p72\n",
    "nums=[5,10,15.2,20]\n",
    "\n",
    "data=[5,\"book\",[34,\"hello\"], True] #lists can hold any type\n",
    "print(data)\n",
    "print(data[2])\n",
    "print(data[2][0])\n",
    "\n",
    "#Variable storage\n",
    "#id function\n",
    "a=[5,10]\n",
    "print(id(a))\n",
    "\n",
    "a=[5,10]\n",
    "b=a #same place in memory\n",
    "data=[5,10,15,20]\n",
    "data_copy=data[:] #copy to different plc\n",
    "data[0]=50\n",
    "print(\"data:{}\\t data_copy: {}\".format(data,data_copy))\n",
    "\n",
    "data_copy2=data_copy.copy()\n",
    "print(data_copy2)"
   ]
  },
  {
   "cell_type": "code",
   "execution_count": 16,
   "metadata": {
    "collapsed": false
   },
   "outputs": [
    {
     "name": "stdout",
     "output_type": "stream",
     "text": [
      "value: 1\n",
      "value: 2\n",
      "value: 3\n",
      "value: 4\n",
      "value: 5\n"
     ]
    }
   ],
   "source": [
    "#p78\n",
    "\n",
    "for num in range(5):\n",
    "    print(\"value: {}\".format(num+1))"
   ]
  },
  {
   "cell_type": "code",
   "execution_count": 21,
   "metadata": {
    "collapsed": false
   },
   "outputs": [
    {
     "name": "stdout",
     "output_type": "stream",
     "text": [
      "give a name:roei\n",
      "letter: r\n",
      "letter: o\n",
      "letter: e\n",
      "letter: i\n"
     ]
    }
   ],
   "source": [
    "name=input(\"give a name:\")\n",
    "for letter in name:\n",
    "    print(\"letter: {}\".format(letter))"
   ]
  },
  {
   "cell_type": "code",
   "execution_count": 60,
   "metadata": {
    "collapsed": false
   },
   "outputs": [
    {
     "name": "stdout",
     "output_type": "stream",
     "text": [
      "0\n",
      "1\n",
      "2\n",
      "4\n"
     ]
    }
   ],
   "source": [
    "for num in range(5):\n",
    "    if (num==3):\n",
    "        continue #stops andgoes back to head of loop\n",
    "    print(num)"
   ]
  },
  {
   "cell_type": "code",
   "execution_count": 26,
   "metadata": {
    "collapsed": false
   },
   "outputs": [
    {
     "name": "stdout",
     "output_type": "stream",
     "text": [
      "0\n",
      "1\n",
      "2\n"
     ]
    }
   ],
   "source": [
    "for num in range(5):\n",
    "    if num==3:\n",
    "        break #stops and exits the loop\n",
    "    print(num)"
   ]
  },
  {
   "cell_type": "code",
   "execution_count": 50,
   "metadata": {
    "collapsed": false
   },
   "outputs": [
    {
     "name": "stdout",
     "output_type": "stream",
     "text": [
      "enter word:kjkljoi\n",
      "oi"
     ]
    }
   ],
   "source": [
    "word=input(\"enter word:\")\n",
    "l=[]\n",
    "for w in word:\n",
    "    if (w in 'oeaiuy'):\n",
    "        l.append(w)\n",
    "for i in l:\n",
    "    print(i,end='')"
   ]
  },
  {
   "cell_type": "code",
   "execution_count": 51,
   "metadata": {
    "collapsed": false
   },
   "outputs": [
    {
     "ename": "NameError",
     "evalue": "name 'strings' is not defined",
     "output_type": "error",
     "traceback": [
      "\u001b[0;31m---------------------------------------------------------------------------\u001b[0m",
      "\u001b[0;31mNameError\u001b[0m                                 Traceback (most recent call last)",
      "\u001b[0;32m<ipython-input-51-4f0a11dd8642>\u001b[0m in \u001b[0;36m<module>\u001b[0;34m()\u001b[0m\n\u001b[0;32m----> 1\u001b[0;31m \u001b[0mstrings\u001b[0m\u001b[1;33m\u001b[0m\u001b[0m\n\u001b[0m\u001b[1;32m      2\u001b[0m \u001b[0mlen\u001b[0m\u001b[1;33m(\u001b[0m\u001b[1;33m)\u001b[0m\u001b[1;33m\u001b[0m\u001b[0m\n\u001b[1;32m      3\u001b[0m \u001b[0mstr\u001b[0m\u001b[1;33m(\u001b[0m\u001b[1;33m)\u001b[0m\u001b[1;33m\u001b[0m\u001b[0m\n",
      "\u001b[0;31mNameError\u001b[0m: name 'strings' is not defined"
     ]
    }
   ],
   "source": [
    "strings\n",
    "len()\n",
    "str()"
   ]
  },
  {
   "cell_type": "code",
   "execution_count": 64,
   "metadata": {
    "collapsed": false
   },
   "outputs": [
    {
     "name": "stdout",
     "output_type": "stream",
     "text": [
      "input: quit\n"
     ]
    }
   ],
   "source": [
    "#83\n",
    "# writing your first while loop\n",
    "inp=input(\"input: \")\n",
    "while inp !='quit':\n",
    "    inp=input(\"input: \")\n",
    "    \n"
   ]
  },
  {
   "cell_type": "code",
   "execution_count": 6,
   "metadata": {
    "collapsed": false
   },
   "outputs": [
    {
     "name": "stdout",
     "output_type": "stream",
     "text": [
      "0\n",
      "1\n",
      "2\n"
     ]
    }
   ],
   "source": [
    "game_over=False\n",
    "while not game_over:\n",
    "    for i in range(6):\n",
    "        \n",
    "                  \n",
    "            if (i>2):\n",
    "                \n",
    "                game_over=True\n",
    "                break\n",
    "            else:\n",
    "                print(i) \n",
    "        \n",
    "    "
   ]
  },
  {
   "cell_type": "code",
   "execution_count": 8,
   "metadata": {
    "collapsed": false
   },
   "outputs": [
    {
     "ename": "SyntaxError",
     "evalue": "unexpected EOF while parsing (<ipython-input-8-663dd5230723>, line 11)",
     "output_type": "error",
     "traceback": [
      "\u001b[0;36m  File \u001b[0;32m\"<ipython-input-8-663dd5230723>\"\u001b[0;36m, line \u001b[0;32m11\u001b[0m\n\u001b[0;31m    \u001b[0m\n\u001b[0m    ^\u001b[0m\n\u001b[0;31mSyntaxError\u001b[0m\u001b[0;31m:\u001b[0m unexpected EOF while parsing\n"
     ]
    }
   ],
   "source": [
    "i=0\n",
    "game_over=False\n",
    "print(game_over)\n",
    "z=0\n",
    "if (i<3):\n",
    "    \n",
    "    \n",
    "      #print(game_over)\n",
    "    \n",
    "    \n",
    "    "
   ]
  },
  {
   "cell_type": "code",
   "execution_count": 11,
   "metadata": {
    "collapsed": false
   },
   "outputs": [
    {
     "name": "stdout",
     "output_type": "stream",
     "text": [
      "['1', '2', '3', '4']\n"
     ]
    }
   ],
   "source": [
    "list4 = list(\"1234\")\n",
    "print(list4)"
   ]
  },
  {
   "cell_type": "code",
   "execution_count": 14,
   "metadata": {
    "collapsed": false
   },
   "outputs": [
    {
     "data": {
      "text/plain": [
       "False"
      ]
     },
     "execution_count": 14,
     "metadata": {},
     "output_type": "execute_result"
    }
   ],
   "source": [
    "word_list1 = [\"pow\", \"expjhkjh\"]\n",
    "word_list2 = [\"por\", \"ex\"]\n",
    "\n",
    "word_list1 < word_list2"
   ]
  },
  {
   "cell_type": "code",
   "execution_count": 19,
   "metadata": {
    "collapsed": false
   },
   "outputs": [
    {
     "name": "stdout",
     "output_type": "stream",
     "text": [
      "[125000, 132651, 140608, 148877, 157464, 166375, 175616, 185193, 195112, 205379, 216000, 226981, 238328, 250047, 262144, 274625, 287496, 300763, 314432, 328509, 343000, 357911, 373248, 389017, 405224, 421875, 438976, 456533, 474552, 493039, 512000, 531441, 551368, 571787, 592704, 614125, 636056, 658503, 681472, 704969, 729000, 753571, 778688, 804357, 830584, 857375, 884736, 912673, 941192, 970299, 1000000]\n",
      "[2, 4, 6, 8]\n"
     ]
    }
   ],
   "source": [
    "#list comprehension\n",
    "cube_list = [ i**3 for i in range(50, 101) ]\n",
    "print(cube_list)\n",
    "even_list = [ i for i in range(1, 10) if i % 2 == 0 ]\n",
    "print(even_list)"
   ]
  },
  {
   "cell_type": "code",
   "execution_count": 31,
   "metadata": {
    "collapsed": false
   },
   "outputs": [
    {
     "name": "stdout",
     "output_type": "stream",
     "text": [
      "Hello, roei !\n",
      "Today is... 2019-12-19 15:06:44.463741\n"
     ]
    }
   ],
   "source": [
    "import datetime\n",
    "\n",
    "def greet(name):\n",
    "    print(\"Hello,\",name,\"!\")\n",
    "    print(\"Today is...\", datetime.datetime.now())\n",
    "    \n",
    "greet(\"roei\")\n",
    "\n"
   ]
  },
  {
   "cell_type": "code",
   "execution_count": 61,
   "metadata": {
    "collapsed": false
   },
   "outputs": [
    {
     "name": "stdout",
     "output_type": "stream",
     "text": [
      "Enter a number: 5\n",
      "54321\n",
      " 120\n"
     ]
    }
   ],
   "source": [
    "def factorial(n):\n",
    "    f = 1\n",
    "    for i in range(n, 0, -1):\n",
    "        f *= i\n",
    "        #n -= 1\n",
    "        print(i, end=\"\")\n",
    "    #print(\"\\n\",f)\n",
    "    return(f)\n",
    " \n",
    "num = input(\"Enter a number: \")\n",
    "fac=factorial(int(num))\n",
    "print(\"\\n\",fac)"
   ]
  },
  {
   "cell_type": "code",
   "execution_count": 47,
   "metadata": {
    "collapsed": false
   },
   "outputs": [
    {
     "name": "stdout",
     "output_type": "stream",
     "text": [
      "Address of arg1: 1653804624\n",
      "Address of para1: 1653804624\n",
      "200\n",
      "100\n",
      "Address of arg1: 1653804624\n"
     ]
    }
   ],
   "source": [
    "def func(para1):\n",
    "    print(\"Address of para1:\", id(para1))\n",
    "    print(para1*2)\n",
    " \n",
    "arg1 = 100\n",
    "print(\"Address of arg1:\", id(arg1))\n",
    "func(arg1)\n",
    "print(arg1)\n",
    "print(\"Address of arg1:\", id(arg1))"
   ]
  },
  {
   "cell_type": "code",
   "execution_count": 52,
   "metadata": {
    "collapsed": false
   },
   "outputs": [
    {
     "name": "stdout",
     "output_type": "stream",
     "text": [
      "Before function call, arg1 = [1, 2, 3]\n",
      "Inside function call, para1 = [1, 2, 3, [4, 6]]\n",
      "After function call, arg1 = [1, 2, 3, [4, 6]]\n"
     ]
    }
   ],
   "source": [
    "\n",
    "def func(para1):\n",
    "    para1.append([4,6])\n",
    "    print(\"Inside function call, para1 =\", para1)\n",
    " \n",
    "arg1 = [1,2,3]\n",
    "print(\"Before function call, arg1 =\", arg1)\n",
    "func(arg1)\n",
    "print(\"After function call, arg1 =\", arg1)\n"
   ]
  },
  {
   "cell_type": "code",
   "execution_count": 1,
   "metadata": {
    "collapsed": false
   },
   "outputs": [
    {
     "name": "stdout",
     "output_type": "stream",
     "text": [
      "22\n"
     ]
    }
   ],
   "source": [
    "def add(num1, num2):\n",
    "    return num1 + num2\n",
    "a=add(12, 10)\n",
    "print(a)"
   ]
  },
  {
   "cell_type": "code",
   "execution_count": 11,
   "metadata": {
    "collapsed": false
   },
   "outputs": [
    {
     "data": {
      "text/plain": [
       "8.0"
      ]
     },
     "execution_count": 11,
     "metadata": {},
     "output_type": "execute_result"
    }
   ],
   "source": [
    "import math\n",
    "math.pow(2,3)"
   ]
  },
  {
   "cell_type": "code",
   "execution_count": 12,
   "metadata": {
    "collapsed": true
   },
   "outputs": [],
   "source": [
    "# import additional functions\n",
    "from random import choice\n",
    "from IPython.display import clear_output\n",
    "# declare game variables\n",
    "words = [ \"tree\", \"basket\", \"chair\", \"paper\", \"python\" ]\n",
    "word = choice(words) # randomly chooses a word from words list\n",
    "guessed, lives, game_over = [ ], 7, False # multi variable assignment\n",
    "guesses = [ \"_ \" ] * len(word)\n",
    "\n"
   ]
  },
  {
   "cell_type": "code",
   "execution_count": 1,
   "metadata": {
    "collapsed": false
   },
   "outputs": [
    {
     "ename": "NameError",
     "evalue": "name 'guesses' is not defined",
     "output_type": "error",
     "traceback": [
      "\u001b[0;31m---------------------------------------------------------------------------\u001b[0m",
      "\u001b[0;31mNameError\u001b[0m                                 Traceback (most recent call last)",
      "\u001b[0;32m<ipython-input-1-87048305dc79>\u001b[0m in \u001b[0;36m<module>\u001b[0;34m()\u001b[0m\n\u001b[0;32m----> 1\u001b[0;31m \u001b[0mprint\u001b[0m\u001b[1;33m(\u001b[0m\u001b[1;34m\"\"\u001b[0m\u001b[1;33m.\u001b[0m\u001b[0mjoin\u001b[0m\u001b[1;33m(\u001b[0m\u001b[0mguesses\u001b[0m\u001b[1;33m)\u001b[0m\u001b[1;33m)\u001b[0m\u001b[1;33m\u001b[0m\u001b[0m\n\u001b[0m\u001b[1;32m      2\u001b[0m \u001b[0mprint\u001b[0m\u001b[1;33m(\u001b[0m\u001b[0mguesses\u001b[0m\u001b[1;33m)\u001b[0m\u001b[1;33m\u001b[0m\u001b[0m\n\u001b[1;32m      3\u001b[0m \u001b[1;34m\"i\"\u001b[0m \u001b[1;32min\u001b[0m \u001b[1;34m\"jhgfghf\"\u001b[0m\u001b[1;33m\u001b[0m\u001b[0m\n",
      "\u001b[0;31mNameError\u001b[0m: name 'guesses' is not defined"
     ]
    }
   ],
   "source": [
    "print(\"\".join(guesses))\n",
    "print(guesses)\n",
    "\"i\" in \"jhgfghf\""
   ]
  },
  {
   "cell_type": "code",
   "execution_count": 23,
   "metadata": {
    "collapsed": false
   },
   "outputs": [
    {
     "name": "stdout",
     "output_type": "stream",
     "text": [
      "<class 'tuple'>\n",
      "John Smith\n",
      "5\n",
      "True\n",
      "Jess\n"
     ]
    }
   ],
   "source": [
    "def outputData(name, *args):\n",
    "    print( type(args) )\n",
    "    print (name)\n",
    "    for arg in args:\n",
    "        print(arg)\n",
    "outputData(\"John Smith\", 5, True, \"Jess\")"
   ]
  },
  {
   "cell_type": "code",
   "execution_count": 26,
   "metadata": {
    "collapsed": false
   },
   "outputs": [
    {
     "name": "stdout",
     "output_type": "stream",
     "text": [
      "<class 'dict'>\n",
      "John Smith\n",
      "5\n"
     ]
    }
   ],
   "source": [
    "def outputData(**kwargs):\n",
    "    print( type(kwargs) )\n",
    "    print( kwargs[ \"name\" ] )\n",
    "    print( kwargs[ \"num\" ] )\n",
    "outputData(name = \"John Smith\", num = 5, b = True)"
   ]
  },
  {
   "cell_type": "code",
   "execution_count": 30,
   "metadata": {
    "collapsed": false
   },
   "outputs": [
    {
     "name": "stdout",
     "output_type": "stream",
     "text": [
      "10.0\n",
      "20\n"
     ]
    }
   ],
   "source": [
    "def addNums(num1, num2):\n",
    "    return num1 + num2\n",
    "num = addNums(5.5, 4.5) # saves returned value into num\n",
    "print(num)\n",
    "print( addNums(10, 10) )"
   ]
  },
  {
   "cell_type": "code",
   "execution_count": 32,
   "metadata": {
    "collapsed": false
   },
   "outputs": [
    {
     "name": "stdout",
     "output_type": "stream",
     "text": [
      "True\n"
     ]
    }
   ],
   "source": [
    "# shorthand syntax using a ternary operator\n",
    "def searchList(aList, el):\n",
    "    return True if el in aList else False\n",
    "result = searchList( [ \"one\", 2, \"three\" ], 2) # result = True\n",
    "print(result)"
   ]
  },
  {
   "cell_type": "code",
   "execution_count": null,
   "metadata": {
    "collapsed": false
   },
   "outputs": [],
   "source": [
    "def printInput(i):\n",
    "    i=input(\"in: \")\n",
    "    return i\n",
    "i=printInput(\"roei\")\n",
    "print(i)"
   ]
  },
  {
   "cell_type": "code",
   "execution_count": 5,
   "metadata": {
    "collapsed": false
   },
   "outputs": [
    {
     "name": "stdout",
     "output_type": "stream",
     "text": [
      "['simha', 'shimshon', 'moshe']\n"
     ]
    }
   ],
   "source": [
    "#p 119\n",
    "\n",
    "def changeValue(aList, name, index):\n",
    "    aList[index]=name\n",
    "     \n",
    "    \n",
    "    \n",
    "aList=[\"roei\",\"shimshon\",\"moshe\"]\n",
    "changeValue(aList, \"simha\",0)\n",
    "print(aList)\n",
    "\n"
   ]
  },
  {
   "cell_type": "code",
   "execution_count": null,
   "metadata": {
    "collapsed": false
   },
   "outputs": [],
   "source": [
    " # import necessary functions\n",
    "from IPython.display import clear_output\n",
    "# global list variable\n",
    "cart = [ ]\n",
    "\n",
    "\n",
    "# create function to add items to cart\n",
    "def addItem(item):\n",
    "     clear_output( )\n",
    "     cart.append(item)\n",
    "     print( \"{} has been added.\".format(item) )\n",
    "        \n",
    "# create function to remove items from cart\n",
    "def removeItem(item):\n",
    "     clear_output( )\n",
    "     try:\n",
    "         cart.remove(item)\n",
    "         print( \"{} has been removed.\".format(item) )\n",
    "     except:\n",
    "         print(\"Sorry we could not remove that item.\")    \n",
    "            \n",
    "# create a function to show items in cart\n",
    "def showCart( ):\n",
    "    clear_output( )\n",
    "    if cart:\n",
    "        print(\"Here is your cart:\")\n",
    "        for item in cart:\n",
    "            print( \"- {}\".format(item) )\n",
    "    else:\n",
    "        print(\"Your cart is empty.\")   \n",
    "              \n",
    "# create function to clear items from cart\n",
    "def clearCart( ):\n",
    "    clear_output( )\n",
    "    cart.clear( )\n",
    "    print(\"Your cart is empty.\")\n",
    "    \n",
    "# create main function that loops until the user quits\n",
    "def main( ):\n",
    "    done = False\n",
    "    while not done:\n",
    "        ans = input(\"quit/add/remove/show/clear: \").lower( )\n",
    "        # base case\n",
    "        if ans == \"quit\":\n",
    "            print(\"Thanks for using our program.\")\n",
    "            showCart( )\n",
    "            done = True\n",
    "\n",
    "        elif ans == \"add\":\n",
    "            item = input(\"What would you like to add? \").title( )\n",
    "            addItem(item)\n",
    "        elif ans == \"remove\":\n",
    "            showCart( )\n",
    "            item = input(\"What item would you like to remove? \").title( )\n",
    "            removeItem(item)\n",
    "        elif ans == \"show\":\n",
    "            showCart( )\n",
    "        elif ans == \"clear\":         \n",
    "            clearCart();\n",
    "        else:\n",
    "            print(\"Sorry that was not an option.\")\n",
    "            \n",
    "            \n",
    "main( ) # run the program"
   ]
  },
  {
   "cell_type": "code",
   "execution_count": 6,
   "metadata": {
    "collapsed": false
   },
   "outputs": [
    {
     "name": "stdout",
     "output_type": "stream",
     "text": [
      "26\n"
     ]
    }
   ],
   "source": [
    "# declaring a dictionary variable\n",
    "empty = { } # empty dictionary\n",
    "person = { \"name\": \"John Smith\" }\n",
    "# dictionary with one key/value pair\n",
    "customer = {\n",
    "\"name\": \"Morty\",\n",
    "\"age\": 26\n",
    "} # dictionary with two key/value pairs\n",
    "print(customer[\"age\"])"
   ]
  },
  {
   "cell_type": "code",
   "execution_count": 11,
   "metadata": {
    "collapsed": false
   },
   "outputs": [
    {
     "name": "stdout",
     "output_type": "stream",
     "text": [
      "John\n",
      "Age is not available.\n"
     ]
    }
   ],
   "source": [
    "# using the get method to access dictionary information\n",
    "person = { \"name\": \"John\" }\n",
    "print( person.get(\"name\") ) # retrieves value of name key as before\n",
    "print( person.get(\"age\", \"Age is not available.\") ) # get is a secure way to retrieve information"
   ]
  },
  {
   "cell_type": "code",
   "execution_count": 14,
   "metadata": {
    "collapsed": false
   },
   "outputs": [
    {
     "name": "stdout",
     "output_type": "stream",
     "text": [
      "cheese\n",
      "sausage\n",
      "peppers\n"
     ]
    }
   ],
   "source": [
    "pizza = {'ingredients': ['cheese', 'sausage', 'peppers']}\n",
    "for i in pizza['ingredients']:\n",
    "    print(i)"
   ]
  },
  {
   "cell_type": "code",
   "execution_count": 19,
   "metadata": {
    "collapsed": false
   },
   "outputs": [
    {
     "name": "stdout",
     "output_type": "stream",
     "text": [
      "{}\n"
     ]
    }
   ],
   "source": [
    "# deleting a key/value pair from a dictionary\n",
    "car = { \"year\": 2018 }\n",
    "try:\n",
    "    del car[\"year\"]\n",
    "    print(car)\n",
    "except:\n",
    "    print(\"That key does not exist\")"
   ]
  },
  {
   "cell_type": "code",
   "execution_count": 23,
   "metadata": {
    "collapsed": false
   },
   "outputs": [
    {
     "name": "stdout",
     "output_type": "stream",
     "text": [
      "age: 26\n",
      "name: John\n"
     ]
    },
    {
     "data": {
      "text/plain": [
       "dict_keys(['age', 'name'])"
      ]
     },
     "execution_count": 23,
     "metadata": {},
     "output_type": "execute_result"
    }
   ],
   "source": [
    "# looping over a dictionary via the key/value pair\n",
    "person = { \"name\": \"John\", \"age\": 26 }\n",
    "for key, value in person.items( ):\n",
    "    print( \"{}: {}\".format(key, value) )\n",
    "person.keys()"
   ]
  },
  {
   "cell_type": "code",
   "execution_count": 2,
   "metadata": {
    "collapsed": false
   },
   "outputs": [
    {
     "name": "stdout",
     "output_type": "stream",
     "text": [
      "<class 'tuple'> <class 'tuple'>\n"
     ]
    },
    {
     "ename": "TypeError",
     "evalue": "'tuple' object does not support item assignment",
     "output_type": "error",
     "traceback": [
      "\u001b[0;31m---------------------------------------------------------------------------\u001b[0m",
      "\u001b[0;31mTypeError\u001b[0m                                 Traceback (most recent call last)",
      "\u001b[0;32m<ipython-input-2-aa7cdf9e1dad>\u001b[0m in \u001b[0;36m<module>\u001b[0;34m()\u001b[0m\n\u001b[1;32m      4\u001b[0m \u001b[0mt2\u001b[0m \u001b[1;33m=\u001b[0m \u001b[1;32mTrue\u001b[0m\u001b[1;33m,\u001b[0m \u001b[1;36m1\u001b[0m \u001b[1;31m# without parens\u001b[0m\u001b[1;33m\u001b[0m\u001b[0m\n\u001b[1;32m      5\u001b[0m \u001b[0mprint\u001b[0m\u001b[1;33m(\u001b[0m \u001b[0mtype\u001b[0m\u001b[1;33m(\u001b[0m\u001b[0mt1\u001b[0m\u001b[1;33m)\u001b[0m\u001b[1;33m,\u001b[0m \u001b[0mtype\u001b[0m\u001b[1;33m(\u001b[0m\u001b[0mt2\u001b[0m\u001b[1;33m)\u001b[0m \u001b[1;33m)\u001b[0m \u001b[1;31m# both are tuples\u001b[0m\u001b[1;33m\u001b[0m\u001b[0m\n\u001b[0;32m----> 6\u001b[0;31m \u001b[0mt1\u001b[0m\u001b[1;33m[\u001b[0m\u001b[1;36m0\u001b[0m\u001b[1;33m]\u001b[0m \u001b[1;33m=\u001b[0m \u001b[1;36m1\u001b[0m \u001b[1;31m# will crash, tuples are immutable once declared\u001b[0m\u001b[1;33m\u001b[0m\u001b[0m\n\u001b[0m\u001b[1;32m      7\u001b[0m \u001b[1;33m\u001b[0m\u001b[0m\n\u001b[1;32m      8\u001b[0m \u001b[1;31m# declaring a set\u001b[0m\u001b[1;33m\u001b[0m\u001b[1;33m\u001b[0m\u001b[0m\n",
      "\u001b[0;31mTypeError\u001b[0m: 'tuple' object does not support item assignment"
     ]
    }
   ],
   "source": [
    "#tuples p137\n",
    "# declaring a tuple\n",
    "t1 = (\"hello\", 2, \"hello\") # with parens\n",
    "t2 = True, 1 # without parens\n",
    "print( type(t1), type(t2) ) # both are tuples\n",
    "t1[0] = 1 # will crash, tuples are immutable once declared\n",
    "\n",
    "# declaring a set\n",
    "s1 = set( [1, 2, 3, 1] ) # uses the set keyword and square brackets\n",
    "s2 = {4, 4, 5} # uses curly brackets, like dictionary\n",
    "print( type(s1), type(s2) )\n",
    "s1.add(5) # using the add method to add new items to a set\n",
    "s1.remove(1) # using the remove method to get rid of the value 1\n",
    "print(s1) # notice when printed it removed the second \"1\" at the end\n",
    "\n",
    "\n",
    "# declaring a frozenset\n",
    "fset = frozenset( [1, 2, 3, 4] )\n",
    "print( type(fset) )"
   ]
  },
  {
   "cell_type": "code",
   "execution_count": 1,
   "metadata": {
    "collapsed": false
   },
   "outputs": [
    {
     "ename": "NameError",
     "evalue": "name 'person' is not defined",
     "output_type": "error",
     "traceback": [
      "\u001b[0;31m---------------------------------------------------------------------------\u001b[0m",
      "\u001b[0;31mNameError\u001b[0m                                 Traceback (most recent call last)",
      "\u001b[0;32m<ipython-input-1-b4d1dd86157f>\u001b[0m in \u001b[0;36m<module>\u001b[0;34m()\u001b[0m\n\u001b[1;32m      1\u001b[0m \u001b[0ms1\u001b[0m \u001b[1;33m=\u001b[0m \u001b[0mset\u001b[0m\u001b[1;33m(\u001b[0m \u001b[1;33m[\u001b[0m\u001b[1;36m1\u001b[0m\u001b[1;33m,\u001b[0m \u001b[1;36m2\u001b[0m\u001b[1;33m,\u001b[0m \u001b[1;36m3\u001b[0m\u001b[1;33m,\u001b[0m \u001b[1;36m1\u001b[0m\u001b[1;33m]\u001b[0m \u001b[1;33m)\u001b[0m \u001b[1;31m# uses the set keyword and square brackets\u001b[0m\u001b[1;33m\u001b[0m\u001b[0m\n\u001b[1;32m      2\u001b[0m \u001b[0mfset\u001b[0m \u001b[1;33m=\u001b[0m \u001b[0mfrozenset\u001b[0m\u001b[1;33m(\u001b[0m \u001b[1;33m[\u001b[0m\u001b[1;36m1\u001b[0m\u001b[1;33m,\u001b[0m \u001b[1;36m2\u001b[0m\u001b[1;33m,\u001b[0m \u001b[1;36m3\u001b[0m\u001b[1;33m,\u001b[0m \u001b[1;36m4\u001b[0m\u001b[1;33m]\u001b[0m \u001b[1;33m)\u001b[0m\u001b[1;33m\u001b[0m\u001b[0m\n\u001b[0;32m----> 3\u001b[0;31m \u001b[0mperson\u001b[0m\u001b[1;33m.\u001b[0m\u001b[0mitems\u001b[0m\u001b[1;33m(\u001b[0m\u001b[1;33m)\u001b[0m\u001b[1;33m\u001b[0m\u001b[0m\n\u001b[0m",
      "\u001b[0;31mNameError\u001b[0m: name 'person' is not defined"
     ]
    }
   ],
   "source": [
    "s1 = set( [1, 2, 3, 1] ) # uses the set keyword and square brackets\n",
    "fset = frozenset( [1, 2, 3, 4] )\n",
    "person.items()"
   ]
  },
  {
   "cell_type": "code",
   "execution_count": 5,
   "metadata": {
    "collapsed": false
   },
   "outputs": [
    {
     "data": {
      "text/plain": [
       "4"
      ]
     },
     "execution_count": 5,
     "metadata": {},
     "output_type": "execute_result"
    }
   ],
   "source": [
    "len(\"dgft\")"
   ]
  },
  {
   "cell_type": "code",
   "execution_count": 3,
   "metadata": {
    "collapsed": false,
    "scrolled": true
   },
   "outputs": [
    {
     "name": "stdout",
     "output_type": "stream",
     "text": [
      "[2, 5, 7, 8]\n"
     ]
    }
   ],
   "source": [
    "l=list([8,5,3,2,1,3,3,1,7])\n",
    "\n",
    "l2=list()\n",
    "for n in set(l):\n",
    "    if l.count(n)==1:\n",
    "        l2.append(n)\n",
    "print(l2)\n",
    "#for i in range(len(l)):\n",
    "    \n",
    "            \n",
    "        \n",
    "        "
   ]
  },
  {
   "cell_type": "code",
   "execution_count": 28,
   "metadata": {
    "collapsed": false
   },
   "outputs": [
    {
     "data": {
      "text/plain": [
       "list"
      ]
     },
     "execution_count": 28,
     "metadata": {},
     "output_type": "execute_result"
    }
   ],
   "source": [
    "#p140\n",
    "type([9,9,7,6])"
   ]
  },
  {
   "cell_type": "code",
   "execution_count": 22,
   "metadata": {
    "collapsed": false,
    "scrolled": true
   },
   "outputs": [
    {
     "name": "stdout",
     "output_type": "stream",
     "text": [
      "#\n",
      "##\n",
      "###\n",
      "####\n",
      "#####\n"
     ]
    }
   ],
   "source": [
    "def recur(h):\n",
    "    if h==0:\n",
    "        return\n",
    "    recur(h-1)\n",
    "    for i in range(h):\n",
    "        print(\"#\",end='')\n",
    "    print()\n",
    "\n",
    "recur(5)"
   ]
  },
  {
   "cell_type": "code",
   "execution_count": 23,
   "metadata": {
    "collapsed": false
   },
   "outputs": [
    {
     "ename": "SyntaxError",
     "evalue": "invalid syntax (<ipython-input-23-7fafdc1a5111>, line 2)",
     "output_type": "error",
     "traceback": [
      "\u001b[0;36m  File \u001b[0;32m\"<ipython-input-23-7fafdc1a5111>\"\u001b[0;36m, line \u001b[0;32m2\u001b[0m\n\u001b[0;31m    if len(lst==1) & len(lst2==1)\u001b[0m\n\u001b[0m                                 ^\u001b[0m\n\u001b[0;31mSyntaxError\u001b[0m\u001b[0;31m:\u001b[0m invalid syntax\n"
     ]
    }
   ],
   "source": [
    "def recur2(lst1,lst2):\n",
    "    if len(lst==1) & len(lst2==1)\n",
    "        return\n",
    "    recur2()\n",
    "    \n",
    "def merge(arr):\n",
    "    "
   ]
  },
  {
   "cell_type": "code",
   "execution_count": null,
   "metadata": {
    "collapsed": false
   },
   "outputs": [],
   "source": [
    "def partition(A,l,h):\n",
    "    fl1=1;fl2=1\n",
    "    pivot=A[l]\n",
    "    i=l; j=h\n",
    "    while(i<j):\n",
    "        while fl1==1:\n",
    "        #print(i)\n",
    "            i = i + 1\n",
    "            if(A[i]<=pivot):\n",
    "                fl1=0\n",
    "        while fl2==1:\n",
    "        #print(i)\n",
    "            j = j - 1\n",
    "            if(A[j]>pivot):\n",
    "                fl2=0\n",
    "        if (i<j):\n",
    "            tmp=A[j]; A[j]=A[i]; A[i]=tmp\n",
    "    tmp=A[j]; A[j]=A[l]; A[l]=tmp\n",
    "    return j\n",
    "\n",
    "def qs(A,l,h):\n",
    "    if (l<h):\n",
    "        j=partition(A,l,h)\n",
    "        qs(A,l,j)\n",
    "        qs(A,j+1,h)\n",
    "        \n",
    "        \n",
    "#qs([6,8,7,5],0,3)\n",
    "A=[6,2,7,5]\n",
    "partition(A,0,300)\n"
   ]
  },
  {
   "cell_type": "code",
   "execution_count": 3,
   "metadata": {
    "collapsed": false
   },
   "outputs": [
    {
     "data": {
      "text/plain": [
       "[12, 3, 4, 100, 50, -2]"
      ]
     },
     "execution_count": 3,
     "metadata": {},
     "output_type": "execute_result"
    }
   ],
   "source": [
    "import math\n",
    "pow(5,0.43067655807339306)\n",
    "list1 = [12, -2, 3, 4, 100, 50,-2]\n",
    "#list1.sort()\n",
    "list1.pop(list1.index(-2))\n",
    "list1"
   ]
  },
  {
   "cell_type": "code",
   "execution_count": null,
   "metadata": {
    "collapsed": true
   },
   "outputs": [],
   "source": [
    "#Creating & Instantiating a Class. PAGE 154\n",
    "# creating your first class\n",
    "class Car( ):\n",
    "    pass # simply using as a placeholder until we add more code tomorrow"
   ]
  },
  {
   "cell_type": "code",
   "execution_count": 5,
   "metadata": {
    "collapsed": false
   },
   "outputs": [
    {
     "name": "stdout",
     "output_type": "stream",
     "text": [
      "<__main__.Car object at 0x0000029C49F09B70>\n"
     ]
    }
   ],
   "source": [
    "# instantiating an object from a class\n",
    "class Car( ): # parens are optional here\n",
    "    pass\n",
    "ford = Car( ) # creates an instance of the Car class and stores into the variable ford\n",
    "print(ford)"
   ]
  },
  {
   "cell_type": "code",
   "execution_count": 5,
   "metadata": {
    "collapsed": false
   },
   "outputs": [
    {
     "name": "stdout",
     "output_type": "stream",
     "text": [
      "153659262749\n",
      "153659262763\n"
     ]
    }
   ],
   "source": [
    "# instantiating multiple objects from the same class\n",
    "class Car( ):\n",
    "    pass\n",
    "ford = Car( )\n",
    "subaru = Car( ) # creates another object from the car class\n",
    "print( hash(ford) )\n",
    "print( hash(subaru) ) # hash outputs a numerical representation of the location in memory for the variable"
   ]
  },
  {
   "cell_type": "code",
   "execution_count": 6,
   "metadata": {
    "collapsed": false
   },
   "outputs": [
    {
     "name": "stdout",
     "output_type": "stream",
     "text": [
      "beep\n",
      "honk\n"
     ]
    }
   ],
   "source": [
    "# changing the value of an attribute\n",
    "class Car( ):\n",
    "    sound = \"beep\"\n",
    "    color = \"red\"\n",
    "ford = Car( )\n",
    "print(ford.sound) # will output 'beep'\n",
    "ford.sound = \"honk\" # from now on the value of fords sound is honk,this does not affect other instances\n",
    "print(ford.sound) # will output 'honk'"
   ]
  },
  {
   "cell_type": "code",
   "execution_count": 12,
   "metadata": {
    "collapsed": false
   },
   "outputs": [
    {
     "data": {
      "text/plain": [
       "-9223371857462351514"
      ]
     },
     "execution_count": 12,
     "metadata": {},
     "output_type": "execute_result"
    }
   ],
   "source": [
    "class Bus:\n",
    "    pass\n",
    "school_bus = Bus( )\n",
    "hash(school_bus)"
   ]
  },
  {
   "cell_type": "code",
   "execution_count": 14,
   "metadata": {
    "collapsed": false
   },
   "outputs": [
    {
     "name": "stdout",
     "output_type": "stream",
     "text": [
      "blue 2016\n",
      "red 2018\n"
     ]
    }
   ],
   "source": [
    "#ATTRIBUTES\n",
    "# defining different values for multiple instances\n",
    "class Car( ):\n",
    "    def __init__(self, color, year):\n",
    "        self.color = color # sets the attribute color to the value passed in\n",
    "        self.year = year\n",
    "ford = Car(\"blue\", 2016) # create a car object with the color blue and year 2016\n",
    "subaru = Car(\"red\", 2018) # create a car object with the color red and year 2018\n",
    "print(ford.color, ford.year)\n",
    "print(subaru.color, subaru.year)"
   ]
  },
  {
   "cell_type": "code",
   "execution_count": 2,
   "metadata": {
    "collapsed": false
   },
   "outputs": [
    {
     "name": "stdout",
     "output_type": "stream",
     "text": [
      "roei\n"
     ]
    }
   ],
   "source": [
    "class Person():\n",
    "    def __init__(self, name):\n",
    "        self.name=name\n",
    "name='roei'\n",
    "person=Person(name)\n",
    "print(person.name)"
   ]
  },
  {
   "cell_type": "code",
   "execution_count": 7,
   "metadata": {
    "collapsed": false
   },
   "outputs": [
    {
     "name": "stdout",
     "output_type": "stream",
     "text": [
      "bark\n"
     ]
    }
   ],
   "source": [
    "#methods\n",
    "# defining and calling our first class method\n",
    "class Dog( ):\n",
    "    def makeSound(self):\n",
    "        print(\"bark\")\n",
    "sam = Dog( )\n",
    "sam.makeSound()"
   ]
  },
  {
   "cell_type": "code",
   "execution_count": 12,
   "metadata": {
    "collapsed": false
   },
   "outputs": [
    {
     "name": "stdout",
     "output_type": "stream",
     "text": [
      "I am a dog.\n",
      "bark\n"
     ]
    },
    {
     "data": {
      "text/plain": [
       "'bark'"
      ]
     },
     "execution_count": 12,
     "metadata": {},
     "output_type": "execute_result"
    }
   ],
   "source": [
    "# understanding which methods are accessible via the class itself and class instances\n",
    "class Dog( ):\n",
    "    sound = \"bark\"\n",
    "    def makeSound(self):\n",
    "        print(self.sound)\n",
    "    def printInfo( ):\n",
    "        print(\"I am a dog.\")\n",
    "Dog.printInfo( ) # able to run printInfo method because it does not include self parameter\n",
    "# Dog.makeSound( ) would produce error, self is in reference to instances only\n",
    "sam = Dog( )\n",
    "sam.makeSound( ) # able to access, self can reference the instance of sam\n",
    "# sam.printInfo( ) will produce error, instances require the self parameter to access methods\n",
    "sam.sound"
   ]
  },
  {
   "cell_type": "code",
   "execution_count": 15,
   "metadata": {
    "collapsed": false
   },
   "outputs": [
    {
     "name": "stdout",
     "output_type": "stream",
     "text": [
      "6\n"
     ]
    }
   ],
   "source": [
    "# writing methods that accept parameters\n",
    "class Dog( ):\n",
    "    def showAge(self, age):\n",
    "        print(age) # does not need self, age is referencing the parameter not an attribute\n",
    "sam = Dog( )\n",
    "sam.showAge( 6 ) # passing the integer 6 as an argument to the showAge method"
   ]
  },
  {
   "cell_type": "code",
   "execution_count": 18,
   "metadata": {
    "collapsed": false
   },
   "outputs": [
    {
     "name": "stdout",
     "output_type": "stream",
     "text": [
      "Sammi\n"
     ]
    }
   ],
   "source": [
    "# using methods to set or return attribute values, proper programming practice\n",
    "class Dog( ):\n",
    "    name = ' ' # would normally use init method to declare, this is for testing purposes\n",
    "    def setName(self, new_name):\n",
    "        self.name = new_name # declares the new value for the name attribute\n",
    "    def getName(self):\n",
    "        return self.name # returns the value of the name attribute\n",
    "sam = Dog( )\n",
    "sam.setName(\"Sammi\")\n",
    "print( sam.getName( ) ) # prints the returned value of self.name"
   ]
  },
  {
   "cell_type": "code",
   "execution_count": 23,
   "metadata": {
    "collapsed": false
   },
   "outputs": [
    {
     "name": "stdout",
     "output_type": "stream",
     "text": [
      "Puppy!\n"
     ]
    }
   ],
   "source": [
    "# calling a class method from another method\n",
    "class Dog( ):\n",
    "    age = 6\n",
    "    def getAge(self):\n",
    "        return self.age\n",
    "    def printInfo(self):\n",
    "        if self.getAge( ) < 10: # need self to call other methodfor an instance\n",
    "            print(\"Puppy!\")\n",
    "sam = Dog( )\n",
    "sam.printInfo( )"
   ]
  },
  {
   "cell_type": "code",
   "execution_count": 25,
   "metadata": {
    "collapsed": false
   },
   "outputs": [
    {
     "name": "stdout",
     "output_type": "stream",
     "text": [
      "This is a dog class\n"
     ]
    }
   ],
   "source": [
    "# using magic methods\n",
    "class Dog( ):\n",
    "    def __str__(self):\n",
    "        return \"This is a dog class\"\n",
    "sam = Dog( )\n",
    "print(sam) # will print the return of the string magic method"
   ]
  },
  {
   "cell_type": "code",
   "execution_count": 27,
   "metadata": {
    "collapsed": false
   },
   "outputs": [
    {
     "name": "stdout",
     "output_type": "stream",
     "text": [
      "roar\n"
     ]
    }
   ],
   "source": [
    "#Inheritance\n",
    "# inheriting a class and accessing the inherited method\n",
    "class Animal( ):\n",
    "    def makeSound(self):\n",
    "        print(\"roar\")\n",
    "class Dog(Animal): # inheriting Animal class\n",
    "    species = \"Canine\"\n",
    "sam = Dog( )\n",
    "sam.makeSound( ) # accessible through inheritance\n",
    "lion = Animal( )\n",
    "# lion.species not accessible, inheritance does not work backwards"
   ]
  },
  {
   "cell_type": "code",
   "execution_count": 31,
   "metadata": {
    "collapsed": false
   },
   "outputs": [
    {
     "name": "stdout",
     "output_type": "stream",
     "text": [
      "Canine\n"
     ]
    }
   ],
   "source": [
    "# using the super( ) method to declare inherited attributes\n",
    "class Animal( ):\n",
    "    def __init__(self, species):\n",
    "        self.species = species\n",
    "class Dog(Animal):\n",
    "    def __init__(self, species, name):\n",
    "        self.name = name\n",
    "        super( ).__init__(species) # using super to declare the species attribute defined in Animal\n",
    "sam = Dog(\"Canine\", \"Sammi\")\n",
    "print(sam.species)"
   ]
  },
  {
   "cell_type": "code",
   "execution_count": 1,
   "metadata": {
    "collapsed": false
   },
   "outputs": [
    {
     "name": "stdout",
     "output_type": "stream",
     "text": [
      "9.8 Ford\n"
     ]
    }
   ],
   "source": [
    "# how to inherit multiple classes\n",
    "class Physics( ):\n",
    "    gravity = 9.8\n",
    "class Automobile( ):\n",
    "    def __init__(self, make, model, year):\n",
    "        self.make, self.model, self.year = make, model, year\n",
    "        # declaring all attributes on one line\n",
    "class Ford(Physics, Automobile): # able to access Physics and Automobile attributes and methods\n",
    "    def __init__(self, model, year):\n",
    "        Automobile.__init__(self, \"Ford\", model, year) # super does not work with multiple\n",
    "truck = Ford(\"F-150\", 2018)\n",
    "print(truck.gravity, truck.make) # output both attributes"
   ]
  },
  {
   "cell_type": "code",
   "execution_count": 32,
   "metadata": {
    "collapsed": false
   },
   "outputs": [
    {
     "name": "stdout",
     "output_type": "stream",
     "text": [
      "What is yur name?;j\n",
      ";j Dealer\n",
      "Player Hand: [(5, 'Spades'), ('J', 'Hearts')] \n",
      "Dealer Hand: [(6, 'Spades'), (8, 'Spades')]\n",
      "(2, 'Hearts') 51\n",
      "(2, 'Diamonds') 50\n",
      "\n",
      ";j\n",
      "===========\n",
      "5 of Spades\n",
      "J of Hearts\n",
      "Total = 15\n",
      "\n",
      "Dealer\n",
      "===========\n",
      "- of –\n",
      "8 of Spades\n",
      "Total = 8\n"
     ]
    }
   ],
   "source": [
    "#“Friday Project: Creating Blackjack.”\n",
    "\n",
    "# importing necessary functions\n",
    "from random import randint # allows us to get a random number\n",
    "from IPython.display import clear_output\n",
    "\n",
    "\n",
    "# create the blackjack class, which will hold all game methods and attributes\n",
    "class Blackjack( ):\n",
    "    def __init__(self):\n",
    "        self.deck = [ ] # set to an empty list\n",
    "        self.suits = (\"Spades\", \"Hearts\", \"Diamonds\", \"Clubs\")\n",
    "        self.values = (2, 3, 4, 5, 6, 7, 8, 9, 10, \"J\", \"Q\", \"K\", \"A\")\n",
    "        \n",
    "# create a method that creates a deck of 52 cards, each card should be a tuple with a value and suit\n",
    "    def makeDeck(self):\n",
    "        for suit in self.suits:\n",
    "            for value in self.values:\n",
    "                self.deck.append( (value, suit) ) # ex: (7,\"Hearts\")\n",
    "\n",
    "                \n",
    "# method to pop a card from deck using a random index value\n",
    "    def pullCard(self):\n",
    "        return self.deck.pop( randint(0, len(self.deck) - 1) )\n",
    "\n",
    "class Player( ): # # create a class for the dealer and player objects\n",
    "    def __init__(self, name):\n",
    "        self.name = name\n",
    "        self.hand = [ ]\n",
    "\n",
    "    # take in a tuple and append it to the hand\n",
    "    def addCard(self, card):\n",
    "        self.hand.append(card)\n",
    "        # if not dealer's turn then only show one of his cards, otherwise show all\n",
    "    def showHand(self, dealer_start = True):\n",
    "        print(\"\\n{}\".format(self.name))\n",
    "        print(\"===========\")\n",
    "        for i in range( len(self.hand) ):\n",
    "            if self.name == \"Dealer\" and i == 0 and dealer_start:\n",
    "                print(\"- of –\") # hide first card\n",
    "            else:\n",
    "                card = self.hand[ i ]\n",
    "                print(\"{} of {}\".format( card[0], card[1] ) )\n",
    "    \n",
    "        print( \"Total = {}\".format( self.calcHand(dealer_start) ) )\n",
    "        \n",
    "# if not dealer's turn then only give back total of second card\n",
    "    def calcHand(self, dealer_start = True):\n",
    "        total = 0\n",
    "        aces = 0 # calculate aces afterwards\n",
    "        card_values = {1:1, 2:2, 3:3, 4:4, 5:5, 6:6, 7:7, 8:8, 9:9, 10:10, \"J\":10, \"Q\":10, \"K\":10, \"A\":11}\n",
    "        if self.name == \"Dealer\" and dealer_start:\n",
    "            card = self.hand[ 1 ]\n",
    "            return card_values[ card[ 0 ] ]\n",
    "        for card in self.hand:\n",
    "            if card[ 0 ] == \"A\":\n",
    "                aces += 1\n",
    "            else:\n",
    "                total += card_values[ card[ 0 ] ]\n",
    "        for i in range(aces):\n",
    "            if total + 11 > 21:\n",
    "                total += 1\n",
    "            else:\n",
    "                total += 11\n",
    "        return total    \n",
    "    \n",
    "name = input(\"What is yur name?\")\n",
    "player = Player(name)\n",
    "dealer = Player(\"Dealer\")\n",
    "print(player.name, dealer.name) # remove after working correctly\n",
    "\n",
    "\n",
    "\n",
    "\n",
    "# add two cards to the dealer and player hand\n",
    "for i in range(2):\n",
    "    player.addCard( game.pullCard( ) )\n",
    "    dealer.addCard( game.pullCard( ) )\n",
    "print( \"Player Hand: {} \\nDealer Hand: {}\".format(player.hand,dealer.hand) ) # remove after\n",
    "\n",
    "game = Blackjack( )\n",
    "game.makeDeck( )\n",
    "print( game.pullCard( ), len(game.deck) )\n",
    "print( game.pullCard( ), len(game.deck) )\n",
    "\n",
    "\n",
    "player.showHand( )\n",
    "dealer.showHand( )\n"
   ]
  }
 ],
 "metadata": {
  "anaconda-cloud": {},
  "kernelspec": {
   "display_name": "Python [conda env:Anaconda3]",
   "language": "python",
   "name": "conda-env-Anaconda3-py"
  },
  "language_info": {
   "codemirror_mode": {
    "name": "ipython",
    "version": 3
   },
   "file_extension": ".py",
   "mimetype": "text/x-python",
   "name": "python",
   "nbconvert_exporter": "python",
   "pygments_lexer": "ipython3",
   "version": "3.5.5"
  }
 },
 "nbformat": 4,
 "nbformat_minor": 1
}

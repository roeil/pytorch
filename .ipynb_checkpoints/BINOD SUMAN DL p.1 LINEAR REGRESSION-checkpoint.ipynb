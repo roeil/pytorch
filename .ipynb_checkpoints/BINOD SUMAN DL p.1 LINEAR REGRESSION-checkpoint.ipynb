{
 "cells": [
  {
   "cell_type": "code",
   "execution_count": 7,
   "metadata": {
    "collapsed": false
   },
   "outputs": [],
   "source": [
    "#linear regression\n",
    "import tensorflow as tf\n",
    "from tensorflow.python.framework import ops\n",
    "import numpy as np\n",
    "\n",
    "ops.reset_default_graph()\n",
    "\n"
   ]
  },
  {
   "cell_type": "code",
   "execution_count": 8,
   "metadata": {
    "collapsed": false
   },
   "outputs": [],
   "source": [
    "n_samples=10000\n",
    "x=np.linspace(0,10,n_samples)\n",
    "y=2*x+5\n",
    "A=tf.Variable(tf.random_normal(shape=[1,1]))\n",
    "b=tf.Variable(tf.random_normal(shape=[1,1]))\n"
   ]
  },
  {
   "cell_type": "code",
   "execution_count": 10,
   "metadata": {
    "collapsed": true
   },
   "outputs": [],
   "source": [
    "\n",
    "x_data=tf.placeholder(shape=[None,1], dtype=tf.float32)\n",
    "y_target=tf.placeholder(shape=[None,1], dtype=tf.float32)\n",
    "\n",
    "model_output=tf.add(tf.multiply(x_data,A),b)\n",
    "\n",
    "loss=tf.reduce_sum(tf.pow(model_output-y_target,2))/(2*n_samples)\n",
    "\n",
    "learning_rate=0.5\n",
    "gd=tf.train.GradientDescentOptimizer(learning_rate)\n",
    "train_process = gd.minimize(loss)\n",
    "\n"
   ]
  },
  {
   "cell_type": "code",
   "execution_count": 16,
   "metadata": {
    "collapsed": false
   },
   "outputs": [
    {
     "name": "stdout",
     "output_type": "stream",
     "text": [
      "[array([[-0.7327074]], dtype=float32), array([[0.08246164]], dtype=float32)]\n",
      "[array([[2.1993823]], dtype=float32), array([[3.693518]], dtype=float32)]\n",
      "[array([[2.0579512]], dtype=float32), array([[4.615507]], dtype=float32)]\n",
      "[array([[2.016943]], dtype=float32), array([[4.8865347]], dtype=float32)]\n",
      "[array([[2.0050428]], dtype=float32), array([[4.966472]], dtype=float32)]\n",
      "[array([[2.0014923]], dtype=float32), array([[4.9901037]], dtype=float32)]\n",
      "[array([[2.0004303]], dtype=float32), array([[4.997101]], dtype=float32)]\n",
      "[array([[2.0001297]], dtype=float32), array([[4.999145]], dtype=float32)]\n",
      "[array([[2.000035]], dtype=float32), array([[4.9997683]], dtype=float32)]\n",
      "[array([[2.0000215]], dtype=float32), array([[4.999858]], dtype=float32)]\n",
      "Coefs after 5000 iterations: [array([[2.0000205]], dtype=float32), array([[4.9998655]], dtype=float32)]\n"
     ]
    }
   ],
   "source": [
    "loss_info=[]\n",
    "batch_size=100\n",
    "with tf.Session() as sess:\n",
    "    sess.run(A.initializer)\n",
    "    sess.run(b.initializer)\n",
    "    for i in range(10000):\n",
    "        rand_index=np.random.choice(len(x),batch_size)\n",
    "        rand_x=x[rand_index]\n",
    "        rand_y=y[rand_index]\n",
    "        sess.run(train_process,feed_dict={x_data: np.transpose([rand_x]), y_target: np.transpose([rand_y])})\n",
    "        loss_info.append(sess.run(loss,feed_dict={x_data:np.transpose([rand_x]),y_target:np.transpose([rand_y])}))\n",
    "        if i%1e3==0:\n",
    "            print(sess.run([A,b]))\n",
    "    tf.summary.FileWriter('C:/Users/roy/Desktop/binod suman DL/summaries/helloworld_n.logs',sess.graph)\n",
    "    print(\"Coefs after 5000 iterations:\",sess.run([A,b]))\n"
   ]
  }
 ],
 "metadata": {
  "kernelspec": {
   "display_name": "Python [conda env:Anaconda3]",
   "language": "python",
   "name": "conda-env-Anaconda3-py"
  },
  "language_info": {
   "codemirror_mode": {
    "name": "ipython",
    "version": 3
   },
   "file_extension": ".py",
   "mimetype": "text/x-python",
   "name": "python",
   "nbconvert_exporter": "python",
   "pygments_lexer": "ipython3",
   "version": "3.5.5"
  }
 },
 "nbformat": 4,
 "nbformat_minor": 1
}
